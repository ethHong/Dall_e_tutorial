{
 "cells": [
  {
   "cell_type": "code",
   "execution_count": 8,
   "metadata": {},
   "outputs": [
    {
     "ename": "ModuleNotFoundError",
     "evalue": "No module named 'taming'",
     "output_type": "error",
     "traceback": [
      "\u001b[0;31m---------------------------------------------------------------------------\u001b[0m",
      "\u001b[0;31mModuleNotFoundError\u001b[0m                       Traceback (most recent call last)",
      "Cell \u001b[0;32mIn [8], line 2\u001b[0m\n\u001b[1;32m      1\u001b[0m \u001b[38;5;28;01mimport\u001b[39;00m \u001b[38;5;21;01mtorch\u001b[39;00m\n\u001b[0;32m----> 2\u001b[0m \u001b[38;5;28;01mfrom\u001b[39;00m \u001b[38;5;21;01mdalle_pytorch\u001b[39;00m\u001b[38;5;21;01m.\u001b[39;00m\u001b[38;5;21;01mdalle_pytorch\u001b[39;00m \u001b[38;5;28;01mimport\u001b[39;00m DiscreteVAE\n",
      "File \u001b[0;32m~/Documents/dalle_tutorial/dalle_pytorch/__init__.py:1\u001b[0m\n\u001b[0;32m----> 1\u001b[0m \u001b[39mfrom\u001b[39;00m \u001b[39mdalle_pytorch\u001b[39;00m\u001b[39m.\u001b[39;00m\u001b[39mdalle_pytorch\u001b[39;00m \u001b[39mimport\u001b[39;00m DALLE, CLIP, DiscreteVAE\n\u001b[1;32m      2\u001b[0m \u001b[39mfrom\u001b[39;00m \u001b[39mdalle_pytorch\u001b[39;00m\u001b[39m.\u001b[39;00m\u001b[39mvae\u001b[39;00m \u001b[39mimport\u001b[39;00m OpenAIDiscreteVAE, VQGanVAE\n\u001b[1;32m      4\u001b[0m \u001b[39mfrom\u001b[39;00m \u001b[39mpkg_resources\u001b[39;00m \u001b[39mimport\u001b[39;00m get_distribution\n",
      "File \u001b[0;32m~/Documents/dalle_tutorial/dalle_pytorch/dalle_pytorch.py:11\u001b[0m\n\u001b[1;32m      8\u001b[0m \u001b[39mfrom\u001b[39;00m \u001b[39meinops\u001b[39;00m \u001b[39mimport\u001b[39;00m rearrange\n\u001b[1;32m     10\u001b[0m \u001b[39mfrom\u001b[39;00m \u001b[39mdalle_pytorch\u001b[39;00m \u001b[39mimport\u001b[39;00m distributed_utils\n\u001b[0;32m---> 11\u001b[0m \u001b[39mfrom\u001b[39;00m \u001b[39mdalle_pytorch\u001b[39;00m\u001b[39m.\u001b[39;00m\u001b[39mvae\u001b[39;00m \u001b[39mimport\u001b[39;00m OpenAIDiscreteVAE, VQGanVAE\n\u001b[1;32m     12\u001b[0m \u001b[39mfrom\u001b[39;00m \u001b[39mdalle_pytorch\u001b[39;00m\u001b[39m.\u001b[39;00m\u001b[39mtransformer\u001b[39;00m \u001b[39mimport\u001b[39;00m Transformer, DivideMax\n\u001b[1;32m     14\u001b[0m \u001b[39m# helpers\u001b[39;00m\n",
      "File \u001b[0;32m~/Documents/dalle_tutorial/dalle_pytorch/vae.py:16\u001b[0m\n\u001b[1;32m     13\u001b[0m \u001b[39mfrom\u001b[39;00m \u001b[39mpackaging\u001b[39;00m \u001b[39mimport\u001b[39;00m version\n\u001b[1;32m     15\u001b[0m \u001b[39mfrom\u001b[39;00m \u001b[39momegaconf\u001b[39;00m \u001b[39mimport\u001b[39;00m OmegaConf\n\u001b[0;32m---> 16\u001b[0m \u001b[39mfrom\u001b[39;00m \u001b[39mtaming\u001b[39;00m\u001b[39m.\u001b[39;00m\u001b[39mmodels\u001b[39;00m\u001b[39m.\u001b[39;00m\u001b[39mvqgan\u001b[39;00m \u001b[39mimport\u001b[39;00m VQModel, GumbelVQ\n\u001b[1;32m     17\u001b[0m \u001b[39mimport\u001b[39;00m \u001b[39mimportlib\u001b[39;00m\n\u001b[1;32m     19\u001b[0m \u001b[39mimport\u001b[39;00m \u001b[39mtorch\u001b[39;00m\n",
      "\u001b[0;31mModuleNotFoundError\u001b[0m: No module named 'taming'"
     ]
    }
   ],
   "source": [
    "import torch\n",
    "from dalle_pytorch.dalle_pytorch import DiscreteVAE"
   ]
  },
  {
   "cell_type": "code",
   "execution_count": null,
   "metadata": {},
   "outputs": [],
   "source": []
  }
 ],
 "metadata": {
  "kernelspec": {
   "display_name": "Python 3.9.10 ('dalle_tutorial-w7atFqgY')",
   "language": "python",
   "name": "python3"
  },
  "language_info": {
   "codemirror_mode": {
    "name": "ipython",
    "version": 3
   },
   "file_extension": ".py",
   "mimetype": "text/x-python",
   "name": "python",
   "nbconvert_exporter": "python",
   "pygments_lexer": "ipython3",
   "version": "3.9.10"
  },
  "orig_nbformat": 4,
  "vscode": {
   "interpreter": {
    "hash": "85420685c2cdc521a742491c776e1816533bf835066a4d14d45e973508934ba5"
   }
  }
 },
 "nbformat": 4,
 "nbformat_minor": 2
}
